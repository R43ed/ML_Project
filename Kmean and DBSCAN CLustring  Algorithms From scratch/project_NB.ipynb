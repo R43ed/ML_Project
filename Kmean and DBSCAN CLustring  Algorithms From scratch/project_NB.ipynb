{
 "cells": [
  {
   "cell_type": "code",
   "execution_count": 3,
   "id": "c7f48cb9",
   "metadata": {},
   "outputs": [],
   "source": [
    "import numpy as np\n",
    "import time\n",
    "import pandas as pd\n",
    "import matplotlib.pyplot as plt\n",
    "import RAi_ML"
   ]
  },
  {
   "cell_type": "code",
   "execution_count": 4,
   "id": "1a61eb95",
   "metadata": {},
   "outputs": [],
   "source": [
    "df = pd.read_csv(\"Varied.csv\")"
   ]
  },
  {
   "cell_type": "code",
   "execution_count": 5,
   "id": "931e9526",
   "metadata": {},
   "outputs": [
    {
     "data": {
      "text/html": [
       "<div>\n",
       "<style scoped>\n",
       "    .dataframe tbody tr th:only-of-type {\n",
       "        vertical-align: middle;\n",
       "    }\n",
       "\n",
       "    .dataframe tbody tr th {\n",
       "        vertical-align: top;\n",
       "    }\n",
       "\n",
       "    .dataframe thead th {\n",
       "        text-align: right;\n",
       "    }\n",
       "</style>\n",
       "<table border=\"1\" class=\"dataframe\">\n",
       "  <thead>\n",
       "    <tr style=\"text-align: right;\">\n",
       "      <th></th>\n",
       "      <th>x</th>\n",
       "      <th>y</th>\n",
       "    </tr>\n",
       "  </thead>\n",
       "  <tbody>\n",
       "    <tr>\n",
       "      <th>0</th>\n",
       "      <td>-7.496770</td>\n",
       "      <td>-4.795778</td>\n",
       "    </tr>\n",
       "    <tr>\n",
       "      <th>1</th>\n",
       "      <td>-9.876978</td>\n",
       "      <td>-6.828510</td>\n",
       "    </tr>\n",
       "    <tr>\n",
       "      <th>2</th>\n",
       "      <td>2.209805</td>\n",
       "      <td>0.316721</td>\n",
       "    </tr>\n",
       "    <tr>\n",
       "      <th>3</th>\n",
       "      <td>1.820086</td>\n",
       "      <td>0.265529</td>\n",
       "    </tr>\n",
       "    <tr>\n",
       "      <th>4</th>\n",
       "      <td>-9.256011</td>\n",
       "      <td>-5.956185</td>\n",
       "    </tr>\n",
       "  </tbody>\n",
       "</table>\n",
       "</div>"
      ],
      "text/plain": [
       "          x         y\n",
       "0 -7.496770 -4.795778\n",
       "1 -9.876978 -6.828510\n",
       "2  2.209805  0.316721\n",
       "3  1.820086  0.265529\n",
       "4 -9.256011 -5.956185"
      ]
     },
     "execution_count": 5,
     "metadata": {},
     "output_type": "execute_result"
    }
   ],
   "source": [
    "dataSet = df.copy()\n",
    "dataSet.columns = ['x','y']\n",
    "dataSet.head()"
   ]
  },
  {
   "cell_type": "code",
   "execution_count": 6,
   "id": "56a128a8",
   "metadata": {},
   "outputs": [
    {
     "data": {
      "image/png": "[encoded data removed]",
      "text/plain": [
       "<Figure size 432x288 with 1 Axes>"
      ]
     },
     "metadata": {
      "needs_background": "light"
     },
     "output_type": "display_data"
    }
   ],
   "source": [
    "data = df.to_numpy()\n",
    "eps = 0.8\n",
    "minPts = 3\n",
    "db = RAi_ML.DBSCAN(data=data,eps = eps, minPts = minPts)\n",
    "db.best_eps()\n",
    "plt.axhline(eps,color='r',linestyle = \"--\");"
   ]
  },
  {
   "cell_type": "code",
   "execution_count": 7,
   "id": "eae127f2",
   "metadata": {},
   "outputs": [
    {
     "data": {
      "text/plain": [
       "(300, 2)"
      ]
     },
     "execution_count": 7,
     "metadata": {},
     "output_type": "execute_result"
    }
   ],
   "source": [
    "data.shape"
   ]
  },
  {
   "cell_type": "code",
   "execution_count": 8,
   "id": "9a977831",
   "metadata": {},
   "outputs": [
    {
     "name": "stdout",
     "output_type": "stream",
     "text": [
      "total time with numpy :  0.0015096664428710938\n"
     ]
    }
   ],
   "source": [
    "start = time.time()\n",
    "dist = db.distance_matrix()\n",
    "df2 = pd.DataFrame(dist)\n",
    "end = time.time()\n",
    "print(\"total time with numpy : \",end - start)"
   ]
  },
  {
   "cell_type": "code",
   "execution_count": 9,
   "id": "4650d067",
   "metadata": {
    "scrolled": true
   },
   "outputs": [
    {
     "data": {
      "text/html": [
       "<div>\n",
       "<style scoped>\n",
       "    .dataframe tbody tr th:only-of-type {\n",
       "        vertical-align: middle;\n",
       "    }\n",
       "\n",
       "    .dataframe tbody tr th {\n",
       "        vertical-align: top;\n",
       "    }\n",
       "\n",
       "    .dataframe thead th {\n",
       "        text-align: right;\n",
       "    }\n",
       "</style>\n",
       "<table border=\"1\" class=\"dataframe\">\n",
       "  <thead>\n",
       "    <tr style=\"text-align: right;\">\n",
       "      <th></th>\n",
       "      <th>0</th>\n",
       "      <th>1</th>\n",
       "      <th>2</th>\n",
       "      <th>3</th>\n",
       "      <th>4</th>\n",
       "      <th>5</th>\n",
       "      <th>6</th>\n",
       "      <th>7</th>\n",
       "      <th>8</th>\n",
       "      <th>9</th>\n",
       "      <th>...</th>\n",
       "      <th>290</th>\n",
       "      <th>291</th>\n",
       "      <th>292</th>\n",
       "      <th>293</th>\n",
       "      <th>294</th>\n",
       "      <th>295</th>\n",
       "      <th>296</th>\n",
       "      <th>297</th>\n",
       "      <th>298</th>\n",
       "      <th>299</th>\n",
       "    </tr>\n",
       "  </thead>\n",
       "  <tbody>\n",
       "    <tr>\n",
       "      <th>0</th>\n",
       "      <td>0.000000</td>\n",
       "      <td>3.130078</td>\n",
       "      <td>10.970654</td>\n",
       "      <td>10.602860</td>\n",
       "      <td>2.107480</td>\n",
       "      <td>11.072976</td>\n",
       "      <td>10.558397</td>\n",
       "      <td>5.188002</td>\n",
       "      <td>2.726708</td>\n",
       "      <td>10.540333</td>\n",
       "      <td>...</td>\n",
       "      <td>10.182241</td>\n",
       "      <td>1.904613</td>\n",
       "      <td>11.239901</td>\n",
       "      <td>3.269174</td>\n",
       "      <td>5.384901</td>\n",
       "      <td>11.254150</td>\n",
       "      <td>11.486200</td>\n",
       "      <td>9.592288</td>\n",
       "      <td>3.761180</td>\n",
       "      <td>11.108043</td>\n",
       "    </tr>\n",
       "    <tr>\n",
       "      <th>1</th>\n",
       "      <td>3.130078</td>\n",
       "      <td>0.000000</td>\n",
       "      <td>14.040821</td>\n",
       "      <td>13.680157</td>\n",
       "      <td>1.070772</td>\n",
       "      <td>14.175990</td>\n",
       "      <td>13.660466</td>\n",
       "      <td>7.255140</td>\n",
       "      <td>5.847800</td>\n",
       "      <td>13.639972</td>\n",
       "      <td>...</td>\n",
       "      <td>13.233856</td>\n",
       "      <td>2.484968</td>\n",
       "      <td>14.298481</td>\n",
       "      <td>3.036952</td>\n",
       "      <td>8.504072</td>\n",
       "      <td>14.322759</td>\n",
       "      <td>14.568544</td>\n",
       "      <td>12.714653</td>\n",
       "      <td>6.403203</td>\n",
       "      <td>14.233599</td>\n",
       "    </tr>\n",
       "    <tr>\n",
       "      <th>2</th>\n",
       "      <td>10.970654</td>\n",
       "      <td>14.040821</td>\n",
       "      <td>0.000000</td>\n",
       "      <td>0.393067</td>\n",
       "      <td>13.069594</td>\n",
       "      <td>0.811282</td>\n",
       "      <td>0.855304</td>\n",
       "      <td>10.708647</td>\n",
       "      <td>8.266232</td>\n",
       "      <td>0.803680</td>\n",
       "      <td>...</td>\n",
       "      <td>0.867795</td>\n",
       "      <td>11.893824</td>\n",
       "      <td>0.348510</td>\n",
       "      <td>13.517947</td>\n",
       "      <td>5.657655</td>\n",
       "      <td>0.284594</td>\n",
       "      <td>0.586297</td>\n",
       "      <td>3.388401</td>\n",
       "      <td>9.418781</td>\n",
       "      <td>1.782603</td>\n",
       "    </tr>\n",
       "    <tr>\n",
       "      <th>3</th>\n",
       "      <td>10.602860</td>\n",
       "      <td>13.680157</td>\n",
       "      <td>0.393067</td>\n",
       "      <td>0.000000</td>\n",
       "      <td>12.703922</td>\n",
       "      <td>0.803780</td>\n",
       "      <td>0.602396</td>\n",
       "      <td>10.318946</td>\n",
       "      <td>7.893783</td>\n",
       "      <td>0.535090</td>\n",
       "      <td>...</td>\n",
       "      <td>0.645793</td>\n",
       "      <td>11.550441</td>\n",
       "      <td>0.730689</td>\n",
       "      <td>13.131840</td>\n",
       "      <td>5.276963</td>\n",
       "      <td>0.671866</td>\n",
       "      <td>0.893237</td>\n",
       "      <td>3.085020</td>\n",
       "      <td>9.025763</td>\n",
       "      <td>1.685620</td>\n",
       "    </tr>\n",
       "    <tr>\n",
       "      <th>4</th>\n",
       "      <td>2.107480</td>\n",
       "      <td>1.070772</td>\n",
       "      <td>13.069594</td>\n",
       "      <td>12.703922</td>\n",
       "      <td>0.000000</td>\n",
       "      <td>13.179890</td>\n",
       "      <td>12.665155</td>\n",
       "      <td>6.296412</td>\n",
       "      <td>4.834093</td>\n",
       "      <td>12.646726</td>\n",
       "      <td>...</td>\n",
       "      <td>12.274378</td>\n",
       "      <td>2.002874</td>\n",
       "      <td>13.334983</td>\n",
       "      <td>2.486867</td>\n",
       "      <td>7.492115</td>\n",
       "      <td>13.352658</td>\n",
       "      <td>13.588878</td>\n",
       "      <td>11.663679</td>\n",
       "      <td>5.351271</td>\n",
       "      <td>13.212024</td>\n",
       "    </tr>\n",
       "    <tr>\n",
       "      <th>...</th>\n",
       "      <td>...</td>\n",
       "      <td>...</td>\n",
       "      <td>...</td>\n",
       "      <td>...</td>\n",
       "      <td>...</td>\n",
       "      <td>...</td>\n",
       "      <td>...</td>\n",
       "      <td>...</td>\n",
       "      <td>...</td>\n",
       "      <td>...</td>\n",
       "      <td>...</td>\n",
       "      <td>...</td>\n",
       "      <td>...</td>\n",
       "      <td>...</td>\n",
       "      <td>...</td>\n",
       "      <td>...</td>\n",
       "      <td>...</td>\n",
       "      <td>...</td>\n",
       "      <td>...</td>\n",
       "      <td>...</td>\n",
       "      <td>...</td>\n",
       "    </tr>\n",
       "    <tr>\n",
       "      <th>295</th>\n",
       "      <td>11.254150</td>\n",
       "      <td>14.322759</td>\n",
       "      <td>0.284594</td>\n",
       "      <td>0.671866</td>\n",
       "      <td>13.352658</td>\n",
       "      <td>0.859521</td>\n",
       "      <td>1.047828</td>\n",
       "      <td>10.972010</td>\n",
       "      <td>8.550447</td>\n",
       "      <td>1.008169</td>\n",
       "      <td>...</td>\n",
       "      <td>1.125508</td>\n",
       "      <td>12.170778</td>\n",
       "      <td>0.199352</td>\n",
       "      <td>13.801662</td>\n",
       "      <td>5.942181</td>\n",
       "      <td>0.000000</td>\n",
       "      <td>0.385906</td>\n",
       "      <td>3.568756</td>\n",
       "      <td>9.694806</td>\n",
       "      <td>1.831005</td>\n",
       "    </tr>\n",
       "    <tr>\n",
       "      <th>296</th>\n",
       "      <td>11.486200</td>\n",
       "      <td>14.568544</td>\n",
       "      <td>0.586297</td>\n",
       "      <td>0.893237</td>\n",
       "      <td>13.588878</td>\n",
       "      <td>0.682442</td>\n",
       "      <td>1.050648</td>\n",
       "      <td>11.040446</td>\n",
       "      <td>8.772723</td>\n",
       "      <td>1.035303</td>\n",
       "      <td>...</td>\n",
       "      <td>1.452523</td>\n",
       "      <td>12.443665</td>\n",
       "      <td>0.565459</td>\n",
       "      <td>13.979625</td>\n",
       "      <td>6.144182</td>\n",
       "      <td>0.385906</td>\n",
       "      <td>0.000000</td>\n",
       "      <td>3.471142</td>\n",
       "      <td>9.816632</td>\n",
       "      <td>1.584199</td>\n",
       "    </tr>\n",
       "    <tr>\n",
       "      <th>297</th>\n",
       "      <td>9.592288</td>\n",
       "      <td>12.714653</td>\n",
       "      <td>3.388401</td>\n",
       "      <td>3.085020</td>\n",
       "      <td>11.663679</td>\n",
       "      <td>2.789239</td>\n",
       "      <td>2.533541</td>\n",
       "      <td>7.954829</td>\n",
       "      <td>6.935183</td>\n",
       "      <td>2.585227</td>\n",
       "      <td>...</td>\n",
       "      <td>3.368868</td>\n",
       "      <td>10.960277</td>\n",
       "      <td>3.722053</td>\n",
       "      <td>11.526889</td>\n",
       "      <td>4.413744</td>\n",
       "      <td>3.568756</td>\n",
       "      <td>3.471142</td>\n",
       "      <td>0.000000</td>\n",
       "      <td>7.073827</td>\n",
       "      <td>2.105734</td>\n",
       "    </tr>\n",
       "    <tr>\n",
       "      <th>298</th>\n",
       "      <td>3.761180</td>\n",
       "      <td>6.403203</td>\n",
       "      <td>9.418781</td>\n",
       "      <td>9.025763</td>\n",
       "      <td>5.351271</td>\n",
       "      <td>9.252480</td>\n",
       "      <td>8.778795</td>\n",
       "      <td>1.937288</td>\n",
       "      <td>2.895041</td>\n",
       "      <td>8.785146</td>\n",
       "      <td>...</td>\n",
       "      <td>8.805547</td>\n",
       "      <td>5.650299</td>\n",
       "      <td>9.745808</td>\n",
       "      <td>4.525752</td>\n",
       "      <td>4.109367</td>\n",
       "      <td>9.694806</td>\n",
       "      <td>9.816632</td>\n",
       "      <td>7.073827</td>\n",
       "      <td>0.000000</td>\n",
       "      <td>8.978770</td>\n",
       "    </tr>\n",
       "    <tr>\n",
       "      <th>299</th>\n",
       "      <td>11.108043</td>\n",
       "      <td>14.233599</td>\n",
       "      <td>1.782603</td>\n",
       "      <td>1.685620</td>\n",
       "      <td>13.212024</td>\n",
       "      <td>0.977809</td>\n",
       "      <td>1.133140</td>\n",
       "      <td>10.000319</td>\n",
       "      <td>8.385888</td>\n",
       "      <td>1.202841</td>\n",
       "      <td>...</td>\n",
       "      <td>2.272774</td>\n",
       "      <td>12.274105</td>\n",
       "      <td>2.025125</td>\n",
       "      <td>13.328794</td>\n",
       "      <td>5.733307</td>\n",
       "      <td>1.831005</td>\n",
       "      <td>1.584199</td>\n",
       "      <td>2.105734</td>\n",
       "      <td>8.978770</td>\n",
       "      <td>0.000000</td>\n",
       "    </tr>\n",
       "  </tbody>\n",
       "</table>\n",
       "<p>300 rows × 300 columns</p>\n",
       "</div>"
      ],
      "text/plain": [
       "           0          1          2          3          4          5    \\\n",
       "0     0.000000   3.130078  10.970654  10.602860   2.107480  11.072976   \n",
       "1     3.130078   0.000000  14.040821  13.680157   1.070772  14.175990   \n",
       "2    10.970654  14.040821   0.000000   0.393067  13.069594   0.811282   \n",
       "3    10.602860  13.680157   0.393067   0.000000  12.703922   0.803780   \n",
       "4     2.107480   1.070772  13.069594  12.703922   0.000000  13.179890   \n",
       "..         ...        ...        ...        ...        ...        ...   \n",
       "295  11.254150  14.322759   0.284594   0.671866  13.352658   0.859521   \n",
       "296  11.486200  14.568544   0.586297   0.893237  13.588878   0.682442   \n",
       "297   9.592288  12.714653   3.388401   3.085020  11.663679   2.789239   \n",
       "298   3.761180   6.403203   9.418781   9.025763   5.351271   9.252480   \n",
       "299  11.108043  14.233599   1.782603   1.685620  13.212024   0.977809   \n",
       "\n",
       "           6          7         8          9    ...        290        291  \\\n",
       "0    10.558397   5.188002  2.726708  10.540333  ...  10.182241   1.904613   \n",
       "1    13.660466   7.255140  5.847800  13.639972  ...  13.233856   2.484968   \n",
       "2     0.855304  10.708647  8.266232   0.803680  ...   0.867795  11.893824   \n",
       "3     0.602396  10.318946  7.893783   0.535090  ...   0.645793  11.550441   \n",
       "4    12.665155   6.296412  4.834093  12.646726  ...  12.274378   2.002874   \n",
       "..         ...        ...       ...        ...  ...        ...        ...   \n",
       "295   1.047828  10.972010  8.550447   1.008169  ...   1.125508  12.170778   \n",
       "296   1.050648  11.040446  8.772723   1.035303  ...   1.452523  12.443665   \n",
       "297   2.533541   7.954829  6.935183   2.585227  ...   3.368868  10.960277   \n",
       "298   8.778795   1.937288  2.895041   8.785146  ...   8.805547   5.650299   \n",
       "299   1.133140  10.000319  8.385888   1.202841  ...   2.272774  12.274105   \n",
       "\n",
       "           292        293       294        295        296        297  \\\n",
       "0    11.239901   3.269174  5.384901  11.254150  11.486200   9.592288   \n",
       "1    14.298481   3.036952  8.504072  14.322759  14.568544  12.714653   \n",
       "2     0.348510  13.517947  5.657655   0.284594   0.586297   3.388401   \n",
       "3     0.730689  13.131840  5.276963   0.671866   0.893237   3.085020   \n",
       "4    13.334983   2.486867  7.492115  13.352658  13.588878  11.663679   \n",
       "..         ...        ...       ...        ...        ...        ...   \n",
       "295   0.199352  13.801662  5.942181   0.000000   0.385906   3.568756   \n",
       "296   0.565459  13.979625  6.144182   0.385906   0.000000   3.471142   \n",
       "297   3.722053  11.526889  4.413744   3.568756   3.471142   0.000000   \n",
       "298   9.745808   4.525752  4.109367   9.694806   9.816632   7.073827   \n",
       "299   2.025125  13.328794  5.733307   1.831005   1.584199   2.105734   \n",
       "\n",
       "          298        299  \n",
       "0    3.761180  11.108043  \n",
       "1    6.403203  14.233599  \n",
       "2    9.418781   1.782603  \n",
       "3    9.025763   1.685620  \n",
       "4    5.351271  13.212024  \n",
       "..        ...        ...  \n",
       "295  9.694806   1.831005  \n",
       "296  9.816632   1.584199  \n",
       "297  7.073827   2.105734  \n",
       "298  0.000000   8.978770  \n",
       "299  8.978770   0.000000  \n",
       "\n",
       "[300 rows x 300 columns]"
      ]
     },
     "execution_count": 9,
     "metadata": {},
     "output_type": "execute_result"
    }
   ],
   "source": [
    "df2"
   ]
  },
  {
   "cell_type": "code",
   "execution_count": 10,
   "id": "13ca25c8",
   "metadata": {},
   "outputs": [],
   "source": [
    "db.fit()\n",
    "border = db.border\n",
    "noise = db.noise"
   ]
  },
  {
   "cell_type": "code",
   "execution_count": 11,
   "id": "4b7250ed",
   "metadata": {},
   "outputs": [
    {
     "data": {
      "text/plain": [
       "31"
      ]
     },
     "execution_count": 11,
     "metadata": {},
     "output_type": "execute_result"
    }
   ],
   "source": [
    "noise.shape[0]"
   ]
  },
  {
   "cell_type": "code",
   "execution_count": 12,
   "id": "0f284fac",
   "metadata": {
    "scrolled": false
   },
   "outputs": [],
   "source": [
    "dataSet = db.dataSet"
   ]
  },
  {
   "cell_type": "code",
   "execution_count": 13,
   "id": "e6d4fd38",
   "metadata": {},
   "outputs": [
    {
     "data": {
      "text/plain": [
       "Int64Index([274, 197, 282,  41, 241, 165,  28, 144, 106, 156, 255, 158, 137,\n",
       "             85, 247, 228, 136,  50, 139,  78,   2, 173, 240, 253,  84,  81,\n",
       "            161, 183, 279,  38, 201, 126, 175,  69, 242, 224,   9, 189, 129,\n",
       "             71, 159, 102, 167, 149, 280,   6, 124, 120,  89, 266, 290, 203,\n",
       "            248, 295, 244, 193, 232, 154, 292,  52, 184, 130,  94, 263,  67,\n",
       "            164],\n",
       "           dtype='int64')"
      ]
     },
     "execution_count": 13,
     "metadata": {},
     "output_type": "execute_result"
    }
   ],
   "source": [
    "db.naighbors(3)"
   ]
  },
  {
   "cell_type": "code",
   "execution_count": 14,
   "id": "fe4af8e0",
   "metadata": {},
   "outputs": [],
   "source": [
    "c = db.predict()"
   ]
  },
  {
   "cell_type": "code",
   "execution_count": 15,
   "id": "704d115c",
   "metadata": {},
   "outputs": [
    {
     "data": {
      "text/plain": [
       "2    101\n",
       "1     91\n",
       "4     35\n",
       "3     33\n",
       "0     31\n",
       "6      5\n",
       "5      4\n",
       "Name: Clusters, dtype: int64"
      ]
     },
     "execution_count": 15,
     "metadata": {},
     "output_type": "execute_result"
    }
   ],
   "source": [
    "c.value_counts()"
   ]
  },
  {
   "cell_type": "code",
   "execution_count": 16,
   "id": "108245e8",
   "metadata": {
    "scrolled": true
   },
   "outputs": [
    {
     "data": {
      "image/png": "[encoded data removed]",
      "text/plain": [
       "<Figure size 432x288 with 1 Axes>"
      ]
     },
     "metadata": {
      "needs_background": "light"
     },
     "output_type": "display_data"
    }
   ],
   "source": [
    "plt.scatter(df.iloc[:,0],df.iloc[:,1]);\n",
    "plt.scatter(border.iloc[:,0],border.iloc[:,1],color = 'k');\n",
    "plt.scatter(noise.iloc[:,0],noise.iloc[:,1],color = 'm');"
   ]
  },
  {
   "cell_type": "code",
   "execution_count": 24,
   "id": "8f266399",
   "metadata": {},
   "outputs": [
    {
     "data": {
      "image/png": "[encoded data removed]",
      "text/plain": [
       "<Figure size 432x288 with 1 Axes>"
      ]
     },
     "metadata": {
      "needs_background": "light"
     },
     "output_type": "display_data"
    }
   ],
   "source": [
    "plt.scatter(df.iloc[:,0],df.iloc[:,1],c = c,cmap=\"viridis\");"
   ]
  },
  {
   "cell_type": "code",
   "execution_count": 25,
   "id": "4c201c18",
   "metadata": {},
   "outputs": [],
   "source": [
    "kmData = df.to_numpy()"
   ]
  },
  {
   "cell_type": "code",
   "execution_count": 26,
   "id": "f85e13a8",
   "metadata": {},
   "outputs": [],
   "source": [
    "km = RAi_ML.KMean(4)"
   ]
  },
  {
   "cell_type": "code",
   "execution_count": 27,
   "id": "a5b29642",
   "metadata": {},
   "outputs": [
    {
     "name": "stdout",
     "output_type": "stream",
     "text": [
      "KMean Algorithem completed\n"
     ]
    }
   ],
   "source": [
    "km.fit(kmData)"
   ]
  },
  {
   "cell_type": "code",
   "execution_count": 31,
   "id": "21fabf5d",
   "metadata": {},
   "outputs": [
    {
     "data": {
      "image/png": "[encoded data removed]",
      "text/plain": [
       "<Figure size 432x288 with 1 Axes>"
      ]
     },
     "metadata": {
      "needs_background": "light"
     },
     "output_type": "display_data"
    }
   ],
   "source": [
    "km.model_plot()"
   ]
  },
  {
   "cell_type": "code",
   "execution_count": null,
   "id": "ff6c82af",
   "metadata": {},
   "outputs": [],
   "source": []
  }
 ],
 "metadata": {
  "kernelspec": {
   "display_name": "Python 3 (ipykernel)",
   "language": "python",
   "name": "python3"
  },
  "language_info": {
   "codemirror_mode": {
    "name": "ipython",
    "version": 3
   },
   "file_extension": ".py",
   "mimetype": "text/x-python",
   "name": "python",
   "nbconvert_exporter": "python",
   "pygments_lexer": "ipython3",
   "version": "3.9.12"
  }
 },
 "nbformat": 4,
 "nbformat_minor": 5
}
